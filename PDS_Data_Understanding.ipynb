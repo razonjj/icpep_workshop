{
 "cells": [
  {
   "cell_type": "markdown",
   "metadata": {},
   "source": [
    "# Python Ecosystem for Machine Learning"
   ]
  },
  {
   "cell_type": "code",
   "execution_count": null,
   "metadata": {
    "ExecuteTime": {
     "end_time": "2019-10-04T00:51:27.284595Z",
     "start_time": "2019-10-04T00:51:26.431739Z"
    }
   },
   "outputs": [],
   "source": [
    "import scipy\n",
    "import numpy\n",
    "import matplotlib\n",
    "import pandas\n",
    "\n",
    "!python --version\n",
    "print('scipy version: %s'%(scipy.__version__))\n",
    "print('numpy version: %s'%(numpy.__version__))\n",
    "print('matplotlib version: %s'%(matplotlib.__version__))\n",
    "print('pandas version: %s'%(pandas.__version__))"
   ]
  },
  {
   "cell_type": "markdown",
   "metadata": {},
   "source": [
    "# Crash Course in Python and SciPy"
   ]
  },
  {
   "cell_type": "code",
   "execution_count": null,
   "metadata": {
    "ExecuteTime": {
     "end_time": "2019-10-04T00:51:33.278739Z",
     "start_time": "2019-10-04T00:51:33.266149Z"
    }
   },
   "outputs": [],
   "source": [
    "# Strings \n",
    "data = 'hello world' \n",
    "print(data[0]) \n",
    "print(len(data)) \n",
    "print(data)"
   ]
  },
  {
   "cell_type": "code",
   "execution_count": null,
   "metadata": {
    "ExecuteTime": {
     "end_time": "2019-10-04T00:51:33.836555Z",
     "start_time": "2019-10-04T00:51:33.829193Z"
    }
   },
   "outputs": [],
   "source": [
    "# Numbers \n",
    "value = 123.1\n",
    "print(value) \n",
    "value = 10 \n",
    "print(value)"
   ]
  },
  {
   "cell_type": "code",
   "execution_count": null,
   "metadata": {
    "ExecuteTime": {
     "end_time": "2019-10-04T00:51:34.352243Z",
     "start_time": "2019-10-04T00:51:34.343011Z"
    }
   },
   "outputs": [],
   "source": [
    "# Boolean \n",
    "a = True \n",
    "b = False \n",
    "print(a, b)"
   ]
  },
  {
   "cell_type": "code",
   "execution_count": null,
   "metadata": {
    "ExecuteTime": {
     "end_time": "2019-10-04T00:51:34.839152Z",
     "start_time": "2019-10-04T00:51:34.832639Z"
    }
   },
   "outputs": [],
   "source": [
    "# Multiple Assignment \n",
    "a, b, c = 1, 2, 3 \n",
    "print(a, b, c)"
   ]
  },
  {
   "cell_type": "code",
   "execution_count": null,
   "metadata": {
    "ExecuteTime": {
     "end_time": "2019-10-04T00:51:35.237857Z",
     "start_time": "2019-10-04T00:51:35.226392Z"
    }
   },
   "outputs": [],
   "source": [
    "# No value \n",
    "a = None \n",
    "print(a)"
   ]
  },
  {
   "cell_type": "code",
   "execution_count": null,
   "metadata": {
    "ExecuteTime": {
     "end_time": "2019-10-04T00:51:35.712465Z",
     "start_time": "2019-10-04T00:51:35.623220Z"
    }
   },
   "outputs": [],
   "source": [
    "# If-Then-Else Conditional\n",
    "value = 99 \n",
    "if value == 99: \n",
    "    print('That is fast')\n",
    "elif value > 200: \n",
    "    print('That is too fast' )\n",
    "else:\n",
    "    print('That is safe' )"
   ]
  },
  {
   "cell_type": "code",
   "execution_count": null,
   "metadata": {
    "ExecuteTime": {
     "end_time": "2019-10-04T00:51:36.111343Z",
     "start_time": "2019-10-04T00:51:35.909556Z"
    }
   },
   "outputs": [],
   "source": [
    "# For-Loop \n",
    "for i in range(10): \n",
    "    print(i)"
   ]
  },
  {
   "cell_type": "code",
   "execution_count": null,
   "metadata": {
    "ExecuteTime": {
     "end_time": "2019-10-04T00:51:36.152537Z",
     "start_time": "2019-10-04T00:51:36.143505Z"
    }
   },
   "outputs": [],
   "source": [
    "# While-Loop \n",
    "i = 0 \n",
    "while i < 10: \n",
    "    print(i) \n",
    "    i += 1"
   ]
  },
  {
   "cell_type": "code",
   "execution_count": null,
   "metadata": {
    "ExecuteTime": {
     "end_time": "2019-10-04T00:51:36.225620Z",
     "start_time": "2019-10-04T00:51:36.221447Z"
    }
   },
   "outputs": [],
   "source": [
    "# Tuple\n",
    "a = (1, 2, 3) \n",
    "print(a)"
   ]
  },
  {
   "cell_type": "code",
   "execution_count": null,
   "metadata": {
    "ExecuteTime": {
     "end_time": "2019-10-04T00:51:36.447497Z",
     "start_time": "2019-10-04T00:51:36.435225Z"
    }
   },
   "outputs": [],
   "source": [
    "# List\n",
    "mylist = [1, 2, 3] \n",
    "print(\"Zeroth Value: %d\" % mylist[0]) \n",
    "mylist.append(4) \n",
    "print(\"List Length: %d\" % len(mylist)) \n",
    "for value in mylist: \n",
    "    print(value)"
   ]
  },
  {
   "cell_type": "code",
   "execution_count": null,
   "metadata": {
    "ExecuteTime": {
     "end_time": "2019-10-04T00:51:36.674154Z",
     "start_time": "2019-10-04T00:51:36.663243Z"
    }
   },
   "outputs": [],
   "source": [
    "# Dictionary\n",
    "mydict = {' a' : 1, ' b' : 2, ' c' : 3} \n",
    "print(\"A value: %d\" % mydict[' a' ]) \n",
    "mydict[' a' ] = 11 \n",
    "print(\"A value: %d\" % mydict[' a' ]) \n",
    "print(\"Keys: %s\" % mydict.keys()) \n",
    "print(\"Values: %s\" % mydict.values()) \n",
    "for key in mydict.keys(): \n",
    "    print(mydict[key])"
   ]
  },
  {
   "cell_type": "code",
   "execution_count": null,
   "metadata": {
    "ExecuteTime": {
     "end_time": "2019-10-04T00:51:36.863414Z",
     "start_time": "2019-10-04T00:51:36.855359Z"
    }
   },
   "outputs": [],
   "source": [
    "# Sum function \n",
    "def mysum(x, y): \n",
    "    return x + y\n",
    "\n",
    "# Test sum function \n",
    "result = mysum(1, 3) \n",
    "print(result)"
   ]
  },
  {
   "cell_type": "code",
   "execution_count": null,
   "metadata": {
    "ExecuteTime": {
     "end_time": "2019-10-04T00:51:37.095759Z",
     "start_time": "2019-10-04T00:51:37.076604Z"
    }
   },
   "outputs": [],
   "source": [
    "# define an array \n",
    "import numpy \n",
    "mylist = [1, 2, 3] \n",
    "myarray = numpy.array(mylist) \n",
    "print(myarray) \n",
    "print(myarray.shape)"
   ]
  },
  {
   "cell_type": "code",
   "execution_count": null,
   "metadata": {
    "ExecuteTime": {
     "end_time": "2019-10-04T00:51:37.275188Z",
     "start_time": "2019-10-04T00:51:37.267935Z"
    }
   },
   "outputs": [],
   "source": [
    "# access values \n",
    "import numpy \n",
    "mylist = [[1, 2, 3], [3, 4, 5]] \n",
    "myarray = numpy.array(mylist) \n",
    "print(myarray) \n",
    "print(myarray.shape) \n",
    "print(\"First row: %s\" % myarray[0]) \n",
    "print(\"Last row: %s\" % myarray[-1]) \n",
    "print(\"Specific row and col: %s\" % myarray[0, 2]) \n",
    "print(\"Whole col: %s\" % myarray[:, 2])"
   ]
  },
  {
   "cell_type": "code",
   "execution_count": null,
   "metadata": {
    "ExecuteTime": {
     "end_time": "2019-10-04T00:51:37.460358Z",
     "start_time": "2019-10-04T00:51:37.451105Z"
    }
   },
   "outputs": [],
   "source": [
    "# arithmetic \n",
    "import numpy \n",
    "myarray1 = numpy.array([2, 2, 2]) \n",
    "myarray2 = numpy.array([3, 3, 3]) \n",
    "print(\"Addition: %s\" % (myarray1 + myarray2)) \n",
    "print(\"Multiplication: %s\" % (myarray1 * myarray2))"
   ]
  },
  {
   "cell_type": "code",
   "execution_count": 7,
   "metadata": {
    "ExecuteTime": {
     "end_time": "2019-10-04T00:51:37.947581Z",
     "start_time": "2019-10-04T00:51:37.617700Z"
    }
   },
   "outputs": [
    {
     "data": {
      "image/png": "[encoded data removed]",
      "text/plain": [
       "<Figure size 432x288 with 1 Axes>"
      ]
     },
     "metadata": {
      "needs_background": "light"
     },
     "output_type": "display_data"
    }
   ],
   "source": [
    "# basic line plot \n",
    "import matplotlib.pyplot as plt \n",
    "import numpy \n",
    "myarray = numpy.array([1, 2, 3]) \n",
    "plt.plot(myarray) \n",
    "plt.xlabel(' some x axis' ) \n",
    "plt.ylabel(' some y axis' ) \n",
    "plt.show()"
   ]
  },
  {
   "cell_type": "code",
   "execution_count": 5,
   "metadata": {
    "ExecuteTime": {
     "end_time": "2019-10-04T00:51:38.447575Z",
     "start_time": "2019-10-04T00:51:37.971976Z"
    }
   },
   "outputs": [
    {
     "data": {
      "image/png": "[encoded data removed]",
      "text/plain": [
       "<Figure size 432x288 with 1 Axes>"
      ]
     },
     "metadata": {
      "needs_background": "light"
     },
     "output_type": "display_data"
    }
   ],
   "source": [
    "# basic scatter plot \n",
    "import matplotlib.pyplot as plt \n",
    "import numpy \n",
    "x = numpy.array([1, 2, 3]) \n",
    "y = numpy.array([2, 4, 6]) \n",
    "plt.scatter(x,y) \n",
    "plt.xlabel(' some x axis' ) \n",
    "plt.ylabel(' some y axis' ) \n",
    "plt.show()"
   ]
  },
  {
   "cell_type": "code",
   "execution_count": 6,
   "metadata": {
    "ExecuteTime": {
     "end_time": "2019-10-04T00:51:38.495873Z",
     "start_time": "2019-10-04T00:51:38.476593Z"
    }
   },
   "outputs": [
    {
     "name": "stdout",
     "output_type": "stream",
     "text": [
      " a    1\n",
      " b    2\n",
      " c    3\n",
      "dtype: int32\n"
     ]
    }
   ],
   "source": [
    "# series\n",
    "import numpy \n",
    "import pandas \n",
    "myarray = numpy.array([1, 2, 3]) \n",
    "rownames = [' a' , ' b' , ' c' ] \n",
    "myseries = pandas.Series(myarray, index=rownames)\n",
    "print(myseries)"
   ]
  },
  {
   "cell_type": "code",
   "execution_count": null,
   "metadata": {
    "ExecuteTime": {
     "end_time": "2019-10-04T00:51:38.522192Z",
     "start_time": "2019-10-04T00:51:38.508750Z"
    }
   },
   "outputs": [],
   "source": [
    "print(myseries[0]) \n",
    "print(myseries[' a' ])"
   ]
  },
  {
   "cell_type": "code",
   "execution_count": null,
   "metadata": {
    "ExecuteTime": {
     "end_time": "2019-10-04T00:51:38.812450Z",
     "start_time": "2019-10-04T00:51:38.784744Z"
    }
   },
   "outputs": [],
   "source": [
    "# dataframe\n",
    "import numpy \n",
    "import pandas \n",
    "myarray = numpy.array([[1, 2, 3], [4, 5, 6]]) \n",
    "rownames = ['a' , 'b' ] \n",
    "colnames = ['one' , 'two' , 'three' ] \n",
    "mydataframe = pandas.DataFrame(myarray, index=rownames, columns=colnames) \n",
    "print(mydataframe)"
   ]
  },
  {
   "cell_type": "code",
   "execution_count": null,
   "metadata": {
    "ExecuteTime": {
     "end_time": "2019-10-04T00:51:39.472319Z",
     "start_time": "2019-10-04T00:51:39.463897Z"
    }
   },
   "outputs": [],
   "source": [
    "print(\"method 1:\") \n",
    "print(\"one column:\\n%s\" % mydataframe['one']) \n",
    "print(\"method 2:\") \n",
    "print(\"one column:\\n%s\" % mydataframe.one)"
   ]
  },
  {
   "cell_type": "markdown",
   "metadata": {},
   "source": [
    "# How To Load Machine Learning Data"
   ]
  },
  {
   "cell_type": "code",
   "execution_count": 87,
   "metadata": {
    "ExecuteTime": {
     "end_time": "2019-10-04T00:51:40.244277Z",
     "start_time": "2019-10-04T00:51:40.217397Z"
    }
   },
   "outputs": [
    {
     "ename": "ValueError",
     "evalue": "could not convert string to float: ",
     "output_type": "error",
     "traceback": [
      "\u001b[1;31m---------------------------------------------------------------------------\u001b[0m",
      "\u001b[1;31mValueError\u001b[0m                                Traceback (most recent call last)",
      "\u001b[1;32m<ipython-input-87-c6e8cba9b272>\u001b[0m in \u001b[0;36m<module>\u001b[1;34m\u001b[0m\n\u001b[0;32m      6\u001b[0m \u001b[0mreader\u001b[0m \u001b[1;33m=\u001b[0m \u001b[0mcsv\u001b[0m\u001b[1;33m.\u001b[0m\u001b[0mreader\u001b[0m\u001b[1;33m(\u001b[0m\u001b[0mraw_data\u001b[0m\u001b[1;33m,\u001b[0m \u001b[0mdelimiter\u001b[0m\u001b[1;33m=\u001b[0m\u001b[1;34m','\u001b[0m \u001b[1;33m,\u001b[0m \u001b[0mquoting\u001b[0m\u001b[1;33m=\u001b[0m\u001b[0mcsv\u001b[0m\u001b[1;33m.\u001b[0m\u001b[0mQUOTE_NONE\u001b[0m\u001b[1;33m)\u001b[0m\u001b[1;33m\u001b[0m\u001b[1;33m\u001b[0m\u001b[0m\n\u001b[0;32m      7\u001b[0m \u001b[0mx\u001b[0m \u001b[1;33m=\u001b[0m \u001b[0mlist\u001b[0m\u001b[1;33m(\u001b[0m\u001b[0mreader\u001b[0m\u001b[1;33m)\u001b[0m\u001b[1;33m\u001b[0m\u001b[1;33m\u001b[0m\u001b[0m\n\u001b[1;32m----> 8\u001b[1;33m \u001b[0mdata\u001b[0m \u001b[1;33m=\u001b[0m \u001b[0mnumpy\u001b[0m\u001b[1;33m.\u001b[0m\u001b[0marray\u001b[0m\u001b[1;33m(\u001b[0m\u001b[0mx\u001b[0m\u001b[1;33m)\u001b[0m\u001b[1;33m.\u001b[0m\u001b[0mastype\u001b[0m\u001b[1;33m(\u001b[0m\u001b[1;34m'float'\u001b[0m\u001b[1;33m)\u001b[0m\u001b[1;33m\u001b[0m\u001b[1;33m\u001b[0m\u001b[0m\n\u001b[0m\u001b[0;32m      9\u001b[0m \u001b[0mprint\u001b[0m\u001b[1;33m(\u001b[0m\u001b[0mdata\u001b[0m\u001b[1;33m.\u001b[0m\u001b[0mshape\u001b[0m\u001b[1;33m)\u001b[0m\u001b[1;33m\u001b[0m\u001b[1;33m\u001b[0m\u001b[0m\n",
      "\u001b[1;31mValueError\u001b[0m: could not convert string to float: "
     ]
    }
   ],
   "source": [
    "# Load CSV Using Python Standard Library \n",
    "import csv \n",
    "import numpy \n",
    "filename = 'Student_Admissions.csv' \n",
    "raw_data = open(filename, 'rt' ) \n",
    "reader = csv.reader(raw_data, delimiter=',' , quoting=csv.QUOTE_NONE) \n",
    "x = list(reader) \n",
    "data = numpy.array(x).astype('float') \n",
    "print(data.shape)"
   ]
  },
  {
   "cell_type": "code",
   "execution_count": 9,
   "metadata": {
    "ExecuteTime": {
     "end_time": "2019-10-04T00:51:40.800511Z",
     "start_time": "2019-10-04T00:51:40.770992Z"
    }
   },
   "outputs": [
    {
     "name": "stdout",
     "output_type": "stream",
     "text": [
      "(768, 9)\n"
     ]
    }
   ],
   "source": [
    "# Load CSV using NumPy \n",
    "from numpy import loadtxt \n",
    "filename = 'Student_Admissions.csv' \n",
    "raw_data = open(filename, 'rt' ) \n",
    "data = loadtxt(raw_data, delimiter=\",\") \n",
    "print(data.shape)"
   ]
  },
  {
   "cell_type": "code",
   "execution_count": 11,
   "metadata": {
    "ExecuteTime": {
     "end_time": "2019-10-04T00:53:13.018984Z",
     "start_time": "2019-10-04T00:53:10.626424Z"
    }
   },
   "outputs": [
    {
     "name": "stdout",
     "output_type": "stream",
     "text": [
      "(768, 9)\n"
     ]
    }
   ],
   "source": [
    "# Load CSV from URL using NumPy \n",
    "from numpy import loadtxt \n",
    "from urllib.request import urlopen \n",
    "url = 'https://goo.gl/bDdBiA' \n",
    "raw_data = urlopen(url) \n",
    "dataset = loadtxt(raw_data, delimiter=\",\") \n",
    "print(dataset.shape)"
   ]
  },
  {
   "cell_type": "code",
   "execution_count": 2,
   "metadata": {
    "ExecuteTime": {
     "end_time": "2019-10-04T00:53:14.415631Z",
     "start_time": "2019-10-04T00:53:14.398229Z"
    }
   },
   "outputs": [
    {
     "name": "stdout",
     "output_type": "stream",
     "text": [
      "(1011, 9)\n"
     ]
    }
   ],
   "source": [
    "# Load CSV using Pandas \n",
    "from urllib.request import urlopen\n",
    "from pandas import read_csv \n",
    "filename = 'Student_Admissions.csv' \n",
    "names = ['preg', 'plas', 'pres', 'skin', 'test', 'mass', 'pedi', 'age', 'class'] \n",
    "data = read_csv(filename, names=names) \n",
    "print(data.shape)"
   ]
  },
  {
   "cell_type": "code",
   "execution_count": 13,
   "metadata": {
    "ExecuteTime": {
     "end_time": "2019-10-04T00:53:17.263687Z",
     "start_time": "2019-10-04T00:53:15.222932Z"
    }
   },
   "outputs": [
    {
     "name": "stdout",
     "output_type": "stream",
     "text": [
      "(768, 9)\n"
     ]
    }
   ],
   "source": [
    "# Load CSV using Pandas from URL \n",
    "from pandas import read_csv \n",
    "url = 'https://goo.gl/bDdBiA' \n",
    "names = ['preg', 'plas', 'pres', 'skin', 'test', 'mass', 'pedi', 'age', 'class'] \n",
    "data = read_csv(url, names=names) \n",
    "print(data.shape)"
   ]
  },
  {
   "cell_type": "markdown",
   "metadata": {},
   "source": [
    "# Understand Your Data With Descriptive Statistics"
   ]
  },
  {
   "cell_type": "code",
   "execution_count": 4,
   "metadata": {
    "ExecuteTime": {
     "end_time": "2019-09-26T07:21:00.307554Z",
     "start_time": "2019-09-26T07:21:00.277952Z"
    }
   },
   "outputs": [
    {
     "ename": "UnicodeDecodeError",
     "evalue": "'utf-8' codec can't decode byte 0xca in position 25: invalid continuation byte",
     "output_type": "error",
     "traceback": [
      "\u001b[1;31m---------------------------------------------------------------------------\u001b[0m",
      "\u001b[1;31mUnicodeDecodeError\u001b[0m                        Traceback (most recent call last)",
      "\u001b[1;32mpandas/_libs/parsers.pyx\u001b[0m in \u001b[0;36mpandas._libs.parsers.TextReader._convert_tokens\u001b[1;34m()\u001b[0m\n",
      "\u001b[1;32mpandas/_libs/parsers.pyx\u001b[0m in \u001b[0;36mpandas._libs.parsers.TextReader._convert_with_dtype\u001b[1;34m()\u001b[0m\n",
      "\u001b[1;32mpandas/_libs/parsers.pyx\u001b[0m in \u001b[0;36mpandas._libs.parsers.TextReader._string_convert\u001b[1;34m()\u001b[0m\n",
      "\u001b[1;32mpandas/_libs/parsers.pyx\u001b[0m in \u001b[0;36mpandas._libs.parsers._string_box_utf8\u001b[1;34m()\u001b[0m\n",
      "\u001b[1;31mUnicodeDecodeError\u001b[0m: 'utf-8' codec can't decode byte 0xca in position 25: invalid continuation byte",
      "\nDuring handling of the above exception, another exception occurred:\n",
      "\u001b[1;31mUnicodeDecodeError\u001b[0m                        Traceback (most recent call last)",
      "\u001b[1;32m<ipython-input-4-7659e1bda8b0>\u001b[0m in \u001b[0;36m<module>\u001b[1;34m\u001b[0m\n\u001b[0;32m      3\u001b[0m \u001b[0mfilename\u001b[0m \u001b[1;33m=\u001b[0m \u001b[1;34m\"Opti.csv\"\u001b[0m\u001b[1;33m\u001b[0m\u001b[1;33m\u001b[0m\u001b[0m\n\u001b[0;32m      4\u001b[0m \u001b[0mnames\u001b[0m \u001b[1;33m=\u001b[0m \u001b[1;33m[\u001b[0m\u001b[1;34m'CELL_NAME'\u001b[0m\u001b[1;33m,\u001b[0m \u001b[1;34m'MUNICIPALITY'\u001b[0m\u001b[1;33m,\u001b[0m \u001b[1;34m'PROVINCE'\u001b[0m\u001b[1;33m,\u001b[0m \u001b[1;34m'AREA'\u001b[0m\u001b[1;33m,\u001b[0m \u001b[1;34m'TOTAL TRAFFIC (MBYTES)'\u001b[0m\u001b[1;33m,\u001b[0m \u001b[1;34m'CSSR'\u001b[0m\u001b[1;33m,\u001b[0m \u001b[1;34m'MOBILEFIXED'\u001b[0m\u001b[1;33m]\u001b[0m\u001b[1;33m\u001b[0m\u001b[1;33m\u001b[0m\u001b[0m\n\u001b[1;32m----> 5\u001b[1;33m \u001b[0mdata\u001b[0m \u001b[1;33m=\u001b[0m \u001b[0mread_csv\u001b[0m\u001b[1;33m(\u001b[0m\u001b[0mfilename\u001b[0m\u001b[1;33m,\u001b[0m \u001b[0mnames\u001b[0m\u001b[1;33m=\u001b[0m\u001b[0mnames\u001b[0m\u001b[1;33m)\u001b[0m\u001b[1;33m\u001b[0m\u001b[1;33m\u001b[0m\u001b[0m\n\u001b[0m\u001b[0;32m      6\u001b[0m \u001b[0mpeek\u001b[0m \u001b[1;33m=\u001b[0m \u001b[0mdata\u001b[0m\u001b[1;33m.\u001b[0m\u001b[0mhead\u001b[0m\u001b[1;33m(\u001b[0m\u001b[1;36m20\u001b[0m\u001b[1;33m)\u001b[0m\u001b[1;33m\u001b[0m\u001b[1;33m\u001b[0m\u001b[0m\n\u001b[0;32m      7\u001b[0m \u001b[0mprint\u001b[0m\u001b[1;33m(\u001b[0m\u001b[0mpeek\u001b[0m\u001b[1;33m)\u001b[0m\u001b[1;33m\u001b[0m\u001b[1;33m\u001b[0m\u001b[0m\n",
      "\u001b[1;32mC:\\Users\\Public\\Anaconda3\\lib\\site-packages\\pandas\\io\\parsers.py\u001b[0m in \u001b[0;36mparser_f\u001b[1;34m(filepath_or_buffer, sep, delimiter, header, names, index_col, usecols, squeeze, prefix, mangle_dupe_cols, dtype, engine, converters, true_values, false_values, skipinitialspace, skiprows, skipfooter, nrows, na_values, keep_default_na, na_filter, verbose, skip_blank_lines, parse_dates, infer_datetime_format, keep_date_col, date_parser, dayfirst, iterator, chunksize, compression, thousands, decimal, lineterminator, quotechar, quoting, doublequote, escapechar, comment, encoding, dialect, tupleize_cols, error_bad_lines, warn_bad_lines, delim_whitespace, low_memory, memory_map, float_precision)\u001b[0m\n\u001b[0;32m    700\u001b[0m                     skip_blank_lines=skip_blank_lines)\n\u001b[0;32m    701\u001b[0m \u001b[1;33m\u001b[0m\u001b[0m\n\u001b[1;32m--> 702\u001b[1;33m         \u001b[1;32mreturn\u001b[0m \u001b[0m_read\u001b[0m\u001b[1;33m(\u001b[0m\u001b[0mfilepath_or_buffer\u001b[0m\u001b[1;33m,\u001b[0m \u001b[0mkwds\u001b[0m\u001b[1;33m)\u001b[0m\u001b[1;33m\u001b[0m\u001b[1;33m\u001b[0m\u001b[0m\n\u001b[0m\u001b[0;32m    703\u001b[0m \u001b[1;33m\u001b[0m\u001b[0m\n\u001b[0;32m    704\u001b[0m     \u001b[0mparser_f\u001b[0m\u001b[1;33m.\u001b[0m\u001b[0m__name__\u001b[0m \u001b[1;33m=\u001b[0m \u001b[0mname\u001b[0m\u001b[1;33m\u001b[0m\u001b[1;33m\u001b[0m\u001b[0m\n",
      "\u001b[1;32mC:\\Users\\Public\\Anaconda3\\lib\\site-packages\\pandas\\io\\parsers.py\u001b[0m in \u001b[0;36m_read\u001b[1;34m(filepath_or_buffer, kwds)\u001b[0m\n\u001b[0;32m    433\u001b[0m \u001b[1;33m\u001b[0m\u001b[0m\n\u001b[0;32m    434\u001b[0m     \u001b[1;32mtry\u001b[0m\u001b[1;33m:\u001b[0m\u001b[1;33m\u001b[0m\u001b[1;33m\u001b[0m\u001b[0m\n\u001b[1;32m--> 435\u001b[1;33m         \u001b[0mdata\u001b[0m \u001b[1;33m=\u001b[0m \u001b[0mparser\u001b[0m\u001b[1;33m.\u001b[0m\u001b[0mread\u001b[0m\u001b[1;33m(\u001b[0m\u001b[0mnrows\u001b[0m\u001b[1;33m)\u001b[0m\u001b[1;33m\u001b[0m\u001b[1;33m\u001b[0m\u001b[0m\n\u001b[0m\u001b[0;32m    436\u001b[0m     \u001b[1;32mfinally\u001b[0m\u001b[1;33m:\u001b[0m\u001b[1;33m\u001b[0m\u001b[1;33m\u001b[0m\u001b[0m\n\u001b[0;32m    437\u001b[0m         \u001b[0mparser\u001b[0m\u001b[1;33m.\u001b[0m\u001b[0mclose\u001b[0m\u001b[1;33m(\u001b[0m\u001b[1;33m)\u001b[0m\u001b[1;33m\u001b[0m\u001b[1;33m\u001b[0m\u001b[0m\n",
      "\u001b[1;32mC:\\Users\\Public\\Anaconda3\\lib\\site-packages\\pandas\\io\\parsers.py\u001b[0m in \u001b[0;36mread\u001b[1;34m(self, nrows)\u001b[0m\n\u001b[0;32m   1137\u001b[0m     \u001b[1;32mdef\u001b[0m \u001b[0mread\u001b[0m\u001b[1;33m(\u001b[0m\u001b[0mself\u001b[0m\u001b[1;33m,\u001b[0m \u001b[0mnrows\u001b[0m\u001b[1;33m=\u001b[0m\u001b[1;32mNone\u001b[0m\u001b[1;33m)\u001b[0m\u001b[1;33m:\u001b[0m\u001b[1;33m\u001b[0m\u001b[1;33m\u001b[0m\u001b[0m\n\u001b[0;32m   1138\u001b[0m         \u001b[0mnrows\u001b[0m \u001b[1;33m=\u001b[0m \u001b[0m_validate_integer\u001b[0m\u001b[1;33m(\u001b[0m\u001b[1;34m'nrows'\u001b[0m\u001b[1;33m,\u001b[0m \u001b[0mnrows\u001b[0m\u001b[1;33m)\u001b[0m\u001b[1;33m\u001b[0m\u001b[1;33m\u001b[0m\u001b[0m\n\u001b[1;32m-> 1139\u001b[1;33m         \u001b[0mret\u001b[0m \u001b[1;33m=\u001b[0m \u001b[0mself\u001b[0m\u001b[1;33m.\u001b[0m\u001b[0m_engine\u001b[0m\u001b[1;33m.\u001b[0m\u001b[0mread\u001b[0m\u001b[1;33m(\u001b[0m\u001b[0mnrows\u001b[0m\u001b[1;33m)\u001b[0m\u001b[1;33m\u001b[0m\u001b[1;33m\u001b[0m\u001b[0m\n\u001b[0m\u001b[0;32m   1140\u001b[0m \u001b[1;33m\u001b[0m\u001b[0m\n\u001b[0;32m   1141\u001b[0m         \u001b[1;31m# May alter columns / col_dict\u001b[0m\u001b[1;33m\u001b[0m\u001b[1;33m\u001b[0m\u001b[1;33m\u001b[0m\u001b[0m\n",
      "\u001b[1;32mC:\\Users\\Public\\Anaconda3\\lib\\site-packages\\pandas\\io\\parsers.py\u001b[0m in \u001b[0;36mread\u001b[1;34m(self, nrows)\u001b[0m\n\u001b[0;32m   1993\u001b[0m     \u001b[1;32mdef\u001b[0m \u001b[0mread\u001b[0m\u001b[1;33m(\u001b[0m\u001b[0mself\u001b[0m\u001b[1;33m,\u001b[0m \u001b[0mnrows\u001b[0m\u001b[1;33m=\u001b[0m\u001b[1;32mNone\u001b[0m\u001b[1;33m)\u001b[0m\u001b[1;33m:\u001b[0m\u001b[1;33m\u001b[0m\u001b[1;33m\u001b[0m\u001b[0m\n\u001b[0;32m   1994\u001b[0m         \u001b[1;32mtry\u001b[0m\u001b[1;33m:\u001b[0m\u001b[1;33m\u001b[0m\u001b[1;33m\u001b[0m\u001b[0m\n\u001b[1;32m-> 1995\u001b[1;33m             \u001b[0mdata\u001b[0m \u001b[1;33m=\u001b[0m \u001b[0mself\u001b[0m\u001b[1;33m.\u001b[0m\u001b[0m_reader\u001b[0m\u001b[1;33m.\u001b[0m\u001b[0mread\u001b[0m\u001b[1;33m(\u001b[0m\u001b[0mnrows\u001b[0m\u001b[1;33m)\u001b[0m\u001b[1;33m\u001b[0m\u001b[1;33m\u001b[0m\u001b[0m\n\u001b[0m\u001b[0;32m   1996\u001b[0m         \u001b[1;32mexcept\u001b[0m \u001b[0mStopIteration\u001b[0m\u001b[1;33m:\u001b[0m\u001b[1;33m\u001b[0m\u001b[1;33m\u001b[0m\u001b[0m\n\u001b[0;32m   1997\u001b[0m             \u001b[1;32mif\u001b[0m \u001b[0mself\u001b[0m\u001b[1;33m.\u001b[0m\u001b[0m_first_chunk\u001b[0m\u001b[1;33m:\u001b[0m\u001b[1;33m\u001b[0m\u001b[1;33m\u001b[0m\u001b[0m\n",
      "\u001b[1;32mpandas/_libs/parsers.pyx\u001b[0m in \u001b[0;36mpandas._libs.parsers.TextReader.read\u001b[1;34m()\u001b[0m\n",
      "\u001b[1;32mpandas/_libs/parsers.pyx\u001b[0m in \u001b[0;36mpandas._libs.parsers.TextReader._read_low_memory\u001b[1;34m()\u001b[0m\n",
      "\u001b[1;32mpandas/_libs/parsers.pyx\u001b[0m in \u001b[0;36mpandas._libs.parsers.TextReader._read_rows\u001b[1;34m()\u001b[0m\n",
      "\u001b[1;32mpandas/_libs/parsers.pyx\u001b[0m in \u001b[0;36mpandas._libs.parsers.TextReader._convert_column_data\u001b[1;34m()\u001b[0m\n",
      "\u001b[1;32mpandas/_libs/parsers.pyx\u001b[0m in \u001b[0;36mpandas._libs.parsers.TextReader._convert_tokens\u001b[1;34m()\u001b[0m\n",
      "\u001b[1;32mpandas/_libs/parsers.pyx\u001b[0m in \u001b[0;36mpandas._libs.parsers.TextReader._convert_with_dtype\u001b[1;34m()\u001b[0m\n",
      "\u001b[1;32mpandas/_libs/parsers.pyx\u001b[0m in \u001b[0;36mpandas._libs.parsers.TextReader._string_convert\u001b[1;34m()\u001b[0m\n",
      "\u001b[1;32mpandas/_libs/parsers.pyx\u001b[0m in \u001b[0;36mpandas._libs.parsers._string_box_utf8\u001b[1;34m()\u001b[0m\n",
      "\u001b[1;31mUnicodeDecodeError\u001b[0m: 'utf-8' codec can't decode byte 0xca in position 25: invalid continuation byte"
     ]
    }
   ],
   "source": [
    "# View first 20 rows \n",
    "from pandas import \n",
    "from pandas import read_csv \n",
    "filename = \"Opti.csv\" \n",
    "names = ['CELL_NAME', 'MUNICIPALITY', 'PROVINCE', 'AREA', 'TOTAL TRAFFIC (MBYTES)', 'CSSR', 'MOBILEFIXED']\n",
    "data = read_csv(filename, names=names) \n",
    "peek = data.head(20)\n",
    "print(peek)"
   ]
  },
  {
   "cell_type": "code",
   "execution_count": 2,
   "metadata": {
    "ExecuteTime": {
     "end_time": "2019-09-26T07:21:00.938854Z",
     "start_time": "2019-09-26T07:21:00.925224Z"
    }
   },
   "outputs": [
    {
     "name": "stdout",
     "output_type": "stream",
     "text": [
      "(1011, 16)\n"
     ]
    }
   ],
   "source": [
    "# Dimensions of your data \n",
    "from pandas import read_csv \n",
    "filename = \"Student_Admissions.csv\" \n",
    "names = ['Batch', 'Eng7', 'Eng8', 'Eng9', 'Math7', 'Math8', 'Math9', 'Sci7', 'Sci8', 'Sci9', 'GWA7', 'GWA8', 'GWA9', 'UP', 'IQ', 'Target']\n",
    "data = read_csv(filename, names=names) \n",
    "shape = data.shape \n",
    "print(shape)"
   ]
  },
  {
   "cell_type": "code",
   "execution_count": 3,
   "metadata": {},
   "outputs": [
    {
     "name": "stdout",
     "output_type": "stream",
     "text": [
      "<class 'pandas.core.frame.DataFrame'>\n",
      "RangeIndex: 1011 entries, 0 to 1010\n",
      "Data columns (total 16 columns):\n",
      "Batch     1011 non-null object\n",
      "Eng7      1011 non-null object\n",
      "Eng8      1010 non-null object\n",
      "Eng9      1011 non-null object\n",
      "Math7     1011 non-null object\n",
      "Math8     1011 non-null object\n",
      "Math9     1010 non-null object\n",
      "Sci7      1011 non-null object\n",
      "Sci8      1011 non-null object\n",
      "Sci9      1011 non-null object\n",
      "GWA7      1011 non-null object\n",
      "GWA8      1011 non-null object\n",
      "GWA9      1010 non-null object\n",
      "UP        1011 non-null object\n",
      "IQ        1010 non-null object\n",
      "Target    1011 non-null object\n",
      "dtypes: object(16)\n",
      "memory usage: 126.5+ KB\n"
     ]
    }
   ],
   "source": [
    "data.info()"
   ]
  },
  {
   "cell_type": "code",
   "execution_count": 90,
   "metadata": {
    "ExecuteTime": {
     "end_time": "2019-09-26T07:21:02.239169Z",
     "start_time": "2019-09-26T07:21:02.222833Z"
    }
   },
   "outputs": [
    {
     "ename": "SyntaxError",
     "evalue": "invalid syntax (<ipython-input-90-457aa61d5bbb>, line 1)",
     "output_type": "error",
     "traceback": [
      "\u001b[1;36m  File \u001b[1;32m\"<ipython-input-90-457aa61d5bbb>\"\u001b[1;36m, line \u001b[1;32m1\u001b[0m\n\u001b[1;33m    <class 'pandas.core.frame.DataFrame'>\u001b[0m\n\u001b[1;37m    ^\u001b[0m\n\u001b[1;31mSyntaxError\u001b[0m\u001b[1;31m:\u001b[0m invalid syntax\n"
     ]
    }
   ],
   "source": [
    "<class 'pandas.core.frame.DataFrame'>\n",
    "RangeIndex: 768 entries, 0 to 767\n",
    "Data columns (total 9 columns):\n",
    "preg     768 non-null int64\n",
    "plas     768 non-null int64\n",
    "pres     768 non-null int64\n",
    "skin     768 non-null int64\n",
    "test     768 non-null int64\n",
    "mass     768 non-null float64\n",
    "pedi     768 non-null float64\n",
    "age      768 non-null int64\n",
    "class    768 non-null int64\n",
    "dtypes: float64(2), int64(7)\n",
    "memory usage: 54.1 KB# Data Types for Each Attribute \n",
    "from pandas import read_csv \n",
    "filename = \"Student_Admissions.csv\"  \n",
    "names = ['Batch', 'Eng7', 'Eng8', 'Eng9', 'Math7', 'Math8', 'Math9', 'Sci7', 'Sci8', 'Sci9', 'GWA7', 'GWA8', 'GWA9', 'UP', 'IQ', 'Target'] \n",
    "data = read_csv(filename, names=names) \n",
    "types = data.dtypes \n",
    "print(types)"
   ]
  },
  {
   "cell_type": "code",
   "execution_count": 91,
   "metadata": {
    "ExecuteTime": {
     "end_time": "2019-09-26T07:21:02.760803Z",
     "start_time": "2019-09-26T07:21:02.675366Z"
    }
   },
   "outputs": [
    {
     "name": "stdout",
     "output_type": "stream",
     "text": [
      "          Batch      Eng7      Eng8      Eng9     Math7     Math8     Math9      Sci7      Sci8  \\\n",
      "count  1010.000  1010.000  1009.000  1010.000  1010.000  1010.000  1009.000  1010.000  1010.000   \n",
      "mean   2009.326    70.682    71.391    72.090    74.633    71.149    71.473    75.845    73.592   \n",
      "std       2.904    10.264    10.814    10.221    12.290    12.723    12.923    10.111    12.225   \n",
      "min    2005.000    44.000    31.000    47.000    40.000    41.000    41.000    52.000     0.000   \n",
      "25%    2007.000    63.000    63.000    64.000    65.000    61.000    61.000    69.000    64.000   \n",
      "50%    2009.000    71.000    72.000    73.000    76.000    70.000    71.000    76.000    74.000   \n",
      "75%    2012.000    79.000    80.000    80.000    84.000    81.000    82.000    84.000    83.000   \n",
      "max    2014.000    96.000    97.000    98.000    99.000    99.000    99.000    98.000   100.000   \n",
      "\n",
      "           Sci9      GWA7      GWA8      GWA9        UP        IQ    Target  \n",
      "count  1010.000  1010.000  1010.000  1009.000  1010.000  1009.000  1010.000  \n",
      "mean     72.271     1.988     3.821     2.102     0.557    65.645     0.475  \n",
      "std      11.866     0.381    57.143     1.805     0.522    20.198     0.500  \n",
      "min      42.000     0.980     1.073     1.190     0.000    10.000     0.000  \n",
      "25%      63.000     1.708     1.726     1.754     0.000    52.000     0.000  \n",
      "50%      72.000     1.969     2.018     2.044     1.000    69.000     0.000  \n",
      "75%      81.000     2.268     2.313     2.337     1.000    81.000     1.000  \n",
      "max     100.000     2.980  1818.000    58.113     2.000    99.000     1.000  \n"
     ]
    }
   ],
   "source": [
    "# Statistical Summary \n",
    "from pandas import read_csv \n",
    "from pandas import set_option \n",
    "filename = \"Student_Admissions.csv\" \n",
    "names = ['Batch', 'Eng7', 'Eng8', 'Eng9', 'Math7', 'Math8', 'Math9', 'Sci7', 'Sci8', 'Sci9', 'GWA7', 'GWA8', 'GWA9', 'UP', 'IQ', 'Target']\n",
    "data = read_csv(filename, names=names) \n",
    "set_option('display.width', 100) \n",
    "set_option('precision', 3) \n",
    "description = data.describe() \n",
    "print(description)"
   ]
  },
  {
   "cell_type": "code",
   "execution_count": 93,
   "metadata": {
    "ExecuteTime": {
     "end_time": "2019-09-26T07:21:03.565039Z",
     "start_time": "2019-09-26T07:21:03.545390Z"
    }
   },
   "outputs": [
    {
     "name": "stdout",
     "output_type": "stream",
     "text": [
      "IQ\n",
      "10.0     1\n",
      "11.0     1\n",
      "12.0     4\n",
      "13.0     2\n",
      "14.0     2\n",
      "17.0     6\n",
      "19.0     6\n",
      "20.0     1\n",
      "21.0     4\n",
      "23.0     9\n",
      "24.0     4\n",
      "25.0     6\n",
      "26.0     3\n",
      "27.0     5\n",
      "29.0     6\n",
      "31.0    16\n",
      "33.0    21\n",
      "35.0    12\n",
      "36.0     1\n",
      "38.0    15\n",
      "40.0    15\n",
      "42.0     4\n",
      "43.0    30\n",
      "45.0    14\n",
      "48.0    31\n",
      "50.0    20\n",
      "52.0    25\n",
      "55.0    29\n",
      "57.0    30\n",
      "60.0    30\n",
      "        ..\n",
      "65.0    48\n",
      "66.0     1\n",
      "67.0    31\n",
      "68.0    31\n",
      "69.0    42\n",
      "70.0     8\n",
      "71.0    46\n",
      "72.0     6\n",
      "73.0    24\n",
      "74.0     1\n",
      "75.0    40\n",
      "77.0    37\n",
      "79.0    23\n",
      "81.0    41\n",
      "83.0    26\n",
      "84.0    25\n",
      "86.0    27\n",
      "87.0    17\n",
      "88.0    21\n",
      "89.0    24\n",
      "90.0     8\n",
      "91.0    21\n",
      "92.0     7\n",
      "93.0    14\n",
      "94.0    15\n",
      "95.0    12\n",
      "96.0     7\n",
      "97.0     4\n",
      "98.0     7\n",
      "99.0     8\n",
      "Length: 63, dtype: int64\n"
     ]
    }
   ],
   "source": [
    "# Class Distribution\n",
    "from pandas import read_csv \n",
    "filename = \"Student_Admissions.csv\" \n",
    "names = ['Batch', 'Eng7', 'Eng8', 'Eng9', 'Math7', 'Math8', 'Math9', 'Sci7', 'Sci8', 'Sci9', 'GWA7', 'GWA8', 'GWA9', 'UP', 'IQ', 'Target']\n",
    "data = read_csv(filename, names=names)\n",
    "class_counts = data.groupby('IQ').size() \n",
    "print(class_counts)"
   ]
  },
  {
   "cell_type": "code",
   "execution_count": 94,
   "metadata": {
    "ExecuteTime": {
     "end_time": "2019-09-26T07:21:04.561624Z",
     "start_time": "2019-09-26T07:21:04.532593Z"
    }
   },
   "outputs": [
    {
     "data": {
      "text/html": [
       "<div>\n",
       "<style scoped>\n",
       "    .dataframe tbody tr th:only-of-type {\n",
       "        vertical-align: middle;\n",
       "    }\n",
       "\n",
       "    .dataframe tbody tr th {\n",
       "        vertical-align: top;\n",
       "    }\n",
       "\n",
       "    .dataframe thead th {\n",
       "        text-align: right;\n",
       "    }\n",
       "</style>\n",
       "<table border=\"1\" class=\"dataframe\">\n",
       "  <thead>\n",
       "    <tr style=\"text-align: right;\">\n",
       "      <th></th>\n",
       "      <th>Batch</th>\n",
       "      <th>Eng7</th>\n",
       "      <th>Eng8</th>\n",
       "      <th>Eng9</th>\n",
       "      <th>Math7</th>\n",
       "      <th>Math8</th>\n",
       "      <th>Math9</th>\n",
       "      <th>Sci7</th>\n",
       "      <th>Sci8</th>\n",
       "      <th>Sci9</th>\n",
       "      <th>GWA7</th>\n",
       "      <th>GWA8</th>\n",
       "      <th>GWA9</th>\n",
       "      <th>UP</th>\n",
       "      <th>IQ</th>\n",
       "      <th>Target</th>\n",
       "    </tr>\n",
       "  </thead>\n",
       "  <tbody>\n",
       "    <tr>\n",
       "      <th>Batch</th>\n",
       "      <td>1.000</td>\n",
       "      <td>0.133</td>\n",
       "      <td>0.084</td>\n",
       "      <td>-0.021</td>\n",
       "      <td>0.009</td>\n",
       "      <td>0.052</td>\n",
       "      <td>0.045</td>\n",
       "      <td>-0.052</td>\n",
       "      <td>0.046</td>\n",
       "      <td>0.164</td>\n",
       "      <td>0.042</td>\n",
       "      <td>-0.025</td>\n",
       "      <td>0.049</td>\n",
       "      <td>-0.045</td>\n",
       "      <td>-0.010</td>\n",
       "      <td>-0.068</td>\n",
       "    </tr>\n",
       "    <tr>\n",
       "      <th>Eng7</th>\n",
       "      <td>0.133</td>\n",
       "      <td>1.000</td>\n",
       "      <td>0.875</td>\n",
       "      <td>0.832</td>\n",
       "      <td>0.721</td>\n",
       "      <td>0.671</td>\n",
       "      <td>0.655</td>\n",
       "      <td>0.823</td>\n",
       "      <td>0.745</td>\n",
       "      <td>0.757</td>\n",
       "      <td>-0.889</td>\n",
       "      <td>-0.032</td>\n",
       "      <td>-0.211</td>\n",
       "      <td>-0.126</td>\n",
       "      <td>0.539</td>\n",
       "      <td>0.656</td>\n",
       "    </tr>\n",
       "    <tr>\n",
       "      <th>Eng8</th>\n",
       "      <td>0.084</td>\n",
       "      <td>0.875</td>\n",
       "      <td>1.000</td>\n",
       "      <td>0.848</td>\n",
       "      <td>0.709</td>\n",
       "      <td>0.715</td>\n",
       "      <td>0.696</td>\n",
       "      <td>0.806</td>\n",
       "      <td>0.797</td>\n",
       "      <td>0.768</td>\n",
       "      <td>-0.856</td>\n",
       "      <td>-0.028</td>\n",
       "      <td>-0.200</td>\n",
       "      <td>-0.120</td>\n",
       "      <td>0.537</td>\n",
       "      <td>0.672</td>\n",
       "    </tr>\n",
       "    <tr>\n",
       "      <th>Eng9</th>\n",
       "      <td>-0.021</td>\n",
       "      <td>0.832</td>\n",
       "      <td>0.848</td>\n",
       "      <td>1.000</td>\n",
       "      <td>0.676</td>\n",
       "      <td>0.685</td>\n",
       "      <td>0.716</td>\n",
       "      <td>0.770</td>\n",
       "      <td>0.773</td>\n",
       "      <td>0.790</td>\n",
       "      <td>-0.821</td>\n",
       "      <td>-0.006</td>\n",
       "      <td>-0.250</td>\n",
       "      <td>-0.107</td>\n",
       "      <td>0.544</td>\n",
       "      <td>0.689</td>\n",
       "    </tr>\n",
       "    <tr>\n",
       "      <th>Math7</th>\n",
       "      <td>0.009</td>\n",
       "      <td>0.721</td>\n",
       "      <td>0.709</td>\n",
       "      <td>0.676</td>\n",
       "      <td>1.000</td>\n",
       "      <td>0.867</td>\n",
       "      <td>0.830</td>\n",
       "      <td>0.831</td>\n",
       "      <td>0.764</td>\n",
       "      <td>0.793</td>\n",
       "      <td>-0.870</td>\n",
       "      <td>-0.028</td>\n",
       "      <td>-0.225</td>\n",
       "      <td>-0.131</td>\n",
       "      <td>0.588</td>\n",
       "      <td>0.641</td>\n",
       "    </tr>\n",
       "    <tr>\n",
       "      <th>Math8</th>\n",
       "      <td>0.052</td>\n",
       "      <td>0.671</td>\n",
       "      <td>0.715</td>\n",
       "      <td>0.685</td>\n",
       "      <td>0.867</td>\n",
       "      <td>1.000</td>\n",
       "      <td>0.890</td>\n",
       "      <td>0.768</td>\n",
       "      <td>0.826</td>\n",
       "      <td>0.838</td>\n",
       "      <td>-0.800</td>\n",
       "      <td>-0.036</td>\n",
       "      <td>-0.223</td>\n",
       "      <td>-0.138</td>\n",
       "      <td>0.511</td>\n",
       "      <td>0.647</td>\n",
       "    </tr>\n",
       "    <tr>\n",
       "      <th>Math9</th>\n",
       "      <td>0.045</td>\n",
       "      <td>0.655</td>\n",
       "      <td>0.696</td>\n",
       "      <td>0.716</td>\n",
       "      <td>0.830</td>\n",
       "      <td>0.890</td>\n",
       "      <td>1.000</td>\n",
       "      <td>0.746</td>\n",
       "      <td>0.783</td>\n",
       "      <td>0.887</td>\n",
       "      <td>-0.778</td>\n",
       "      <td>-0.046</td>\n",
       "      <td>-0.235</td>\n",
       "      <td>-0.093</td>\n",
       "      <td>0.490</td>\n",
       "      <td>0.648</td>\n",
       "    </tr>\n",
       "    <tr>\n",
       "      <th>Sci7</th>\n",
       "      <td>-0.052</td>\n",
       "      <td>0.823</td>\n",
       "      <td>0.806</td>\n",
       "      <td>0.770</td>\n",
       "      <td>0.831</td>\n",
       "      <td>0.768</td>\n",
       "      <td>0.746</td>\n",
       "      <td>1.000</td>\n",
       "      <td>0.796</td>\n",
       "      <td>0.790</td>\n",
       "      <td>-0.942</td>\n",
       "      <td>-0.002</td>\n",
       "      <td>-0.245</td>\n",
       "      <td>-0.113</td>\n",
       "      <td>0.545</td>\n",
       "      <td>0.695</td>\n",
       "    </tr>\n",
       "    <tr>\n",
       "      <th>Sci8</th>\n",
       "      <td>0.046</td>\n",
       "      <td>0.745</td>\n",
       "      <td>0.797</td>\n",
       "      <td>0.773</td>\n",
       "      <td>0.764</td>\n",
       "      <td>0.826</td>\n",
       "      <td>0.783</td>\n",
       "      <td>0.796</td>\n",
       "      <td>1.000</td>\n",
       "      <td>0.831</td>\n",
       "      <td>-0.821</td>\n",
       "      <td>-0.023</td>\n",
       "      <td>-0.226</td>\n",
       "      <td>-0.146</td>\n",
       "      <td>0.498</td>\n",
       "      <td>0.643</td>\n",
       "    </tr>\n",
       "    <tr>\n",
       "      <th>Sci9</th>\n",
       "      <td>0.164</td>\n",
       "      <td>0.757</td>\n",
       "      <td>0.768</td>\n",
       "      <td>0.790</td>\n",
       "      <td>0.793</td>\n",
       "      <td>0.838</td>\n",
       "      <td>0.887</td>\n",
       "      <td>0.790</td>\n",
       "      <td>0.831</td>\n",
       "      <td>1.000</td>\n",
       "      <td>-0.823</td>\n",
       "      <td>-0.044</td>\n",
       "      <td>-0.244</td>\n",
       "      <td>-0.094</td>\n",
       "      <td>0.475</td>\n",
       "      <td>0.647</td>\n",
       "    </tr>\n",
       "    <tr>\n",
       "      <th>GWA7</th>\n",
       "      <td>0.042</td>\n",
       "      <td>-0.889</td>\n",
       "      <td>-0.856</td>\n",
       "      <td>-0.821</td>\n",
       "      <td>-0.870</td>\n",
       "      <td>-0.800</td>\n",
       "      <td>-0.778</td>\n",
       "      <td>-0.942</td>\n",
       "      <td>-0.821</td>\n",
       "      <td>-0.823</td>\n",
       "      <td>1.000</td>\n",
       "      <td>0.015</td>\n",
       "      <td>0.246</td>\n",
       "      <td>0.108</td>\n",
       "      <td>-0.547</td>\n",
       "      <td>-0.703</td>\n",
       "    </tr>\n",
       "    <tr>\n",
       "      <th>GWA8</th>\n",
       "      <td>-0.025</td>\n",
       "      <td>-0.032</td>\n",
       "      <td>-0.028</td>\n",
       "      <td>-0.006</td>\n",
       "      <td>-0.028</td>\n",
       "      <td>-0.036</td>\n",
       "      <td>-0.046</td>\n",
       "      <td>-0.002</td>\n",
       "      <td>-0.023</td>\n",
       "      <td>-0.044</td>\n",
       "      <td>0.015</td>\n",
       "      <td>1.000</td>\n",
       "      <td>0.006</td>\n",
       "      <td>0.027</td>\n",
       "      <td>-0.036</td>\n",
       "      <td>-0.035</td>\n",
       "    </tr>\n",
       "    <tr>\n",
       "      <th>GWA9</th>\n",
       "      <td>0.049</td>\n",
       "      <td>-0.211</td>\n",
       "      <td>-0.200</td>\n",
       "      <td>-0.250</td>\n",
       "      <td>-0.225</td>\n",
       "      <td>-0.223</td>\n",
       "      <td>-0.235</td>\n",
       "      <td>-0.245</td>\n",
       "      <td>-0.226</td>\n",
       "      <td>-0.244</td>\n",
       "      <td>0.246</td>\n",
       "      <td>0.006</td>\n",
       "      <td>1.000</td>\n",
       "      <td>-0.013</td>\n",
       "      <td>-0.104</td>\n",
       "      <td>-0.176</td>\n",
       "    </tr>\n",
       "    <tr>\n",
       "      <th>UP</th>\n",
       "      <td>-0.045</td>\n",
       "      <td>-0.126</td>\n",
       "      <td>-0.120</td>\n",
       "      <td>-0.107</td>\n",
       "      <td>-0.131</td>\n",
       "      <td>-0.138</td>\n",
       "      <td>-0.093</td>\n",
       "      <td>-0.113</td>\n",
       "      <td>-0.146</td>\n",
       "      <td>-0.094</td>\n",
       "      <td>0.108</td>\n",
       "      <td>0.027</td>\n",
       "      <td>-0.013</td>\n",
       "      <td>1.000</td>\n",
       "      <td>-0.178</td>\n",
       "      <td>-0.074</td>\n",
       "    </tr>\n",
       "    <tr>\n",
       "      <th>IQ</th>\n",
       "      <td>-0.010</td>\n",
       "      <td>0.539</td>\n",
       "      <td>0.537</td>\n",
       "      <td>0.544</td>\n",
       "      <td>0.588</td>\n",
       "      <td>0.511</td>\n",
       "      <td>0.490</td>\n",
       "      <td>0.545</td>\n",
       "      <td>0.498</td>\n",
       "      <td>0.475</td>\n",
       "      <td>-0.547</td>\n",
       "      <td>-0.036</td>\n",
       "      <td>-0.104</td>\n",
       "      <td>-0.178</td>\n",
       "      <td>1.000</td>\n",
       "      <td>0.529</td>\n",
       "    </tr>\n",
       "    <tr>\n",
       "      <th>Target</th>\n",
       "      <td>-0.068</td>\n",
       "      <td>0.656</td>\n",
       "      <td>0.672</td>\n",
       "      <td>0.689</td>\n",
       "      <td>0.641</td>\n",
       "      <td>0.647</td>\n",
       "      <td>0.648</td>\n",
       "      <td>0.695</td>\n",
       "      <td>0.643</td>\n",
       "      <td>0.647</td>\n",
       "      <td>-0.703</td>\n",
       "      <td>-0.035</td>\n",
       "      <td>-0.176</td>\n",
       "      <td>-0.074</td>\n",
       "      <td>0.529</td>\n",
       "      <td>1.000</td>\n",
       "    </tr>\n",
       "  </tbody>\n",
       "</table>\n",
       "</div>"
      ],
      "text/plain": [
       "        Batch   Eng7   Eng8   Eng9  Math7  Math8  Math9   Sci7   Sci8   Sci9   GWA7   GWA8   GWA9  \\\n",
       "Batch   1.000  0.133  0.084 -0.021  0.009  0.052  0.045 -0.052  0.046  0.164  0.042 -0.025  0.049   \n",
       "Eng7    0.133  1.000  0.875  0.832  0.721  0.671  0.655  0.823  0.745  0.757 -0.889 -0.032 -0.211   \n",
       "Eng8    0.084  0.875  1.000  0.848  0.709  0.715  0.696  0.806  0.797  0.768 -0.856 -0.028 -0.200   \n",
       "Eng9   -0.021  0.832  0.848  1.000  0.676  0.685  0.716  0.770  0.773  0.790 -0.821 -0.006 -0.250   \n",
       "Math7   0.009  0.721  0.709  0.676  1.000  0.867  0.830  0.831  0.764  0.793 -0.870 -0.028 -0.225   \n",
       "Math8   0.052  0.671  0.715  0.685  0.867  1.000  0.890  0.768  0.826  0.838 -0.800 -0.036 -0.223   \n",
       "Math9   0.045  0.655  0.696  0.716  0.830  0.890  1.000  0.746  0.783  0.887 -0.778 -0.046 -0.235   \n",
       "Sci7   -0.052  0.823  0.806  0.770  0.831  0.768  0.746  1.000  0.796  0.790 -0.942 -0.002 -0.245   \n",
       "Sci8    0.046  0.745  0.797  0.773  0.764  0.826  0.783  0.796  1.000  0.831 -0.821 -0.023 -0.226   \n",
       "Sci9    0.164  0.757  0.768  0.790  0.793  0.838  0.887  0.790  0.831  1.000 -0.823 -0.044 -0.244   \n",
       "GWA7    0.042 -0.889 -0.856 -0.821 -0.870 -0.800 -0.778 -0.942 -0.821 -0.823  1.000  0.015  0.246   \n",
       "GWA8   -0.025 -0.032 -0.028 -0.006 -0.028 -0.036 -0.046 -0.002 -0.023 -0.044  0.015  1.000  0.006   \n",
       "GWA9    0.049 -0.211 -0.200 -0.250 -0.225 -0.223 -0.235 -0.245 -0.226 -0.244  0.246  0.006  1.000   \n",
       "UP     -0.045 -0.126 -0.120 -0.107 -0.131 -0.138 -0.093 -0.113 -0.146 -0.094  0.108  0.027 -0.013   \n",
       "IQ     -0.010  0.539  0.537  0.544  0.588  0.511  0.490  0.545  0.498  0.475 -0.547 -0.036 -0.104   \n",
       "Target -0.068  0.656  0.672  0.689  0.641  0.647  0.648  0.695  0.643  0.647 -0.703 -0.035 -0.176   \n",
       "\n",
       "           UP     IQ  Target  \n",
       "Batch  -0.045 -0.010  -0.068  \n",
       "Eng7   -0.126  0.539   0.656  \n",
       "Eng8   -0.120  0.537   0.672  \n",
       "Eng9   -0.107  0.544   0.689  \n",
       "Math7  -0.131  0.588   0.641  \n",
       "Math8  -0.138  0.511   0.647  \n",
       "Math9  -0.093  0.490   0.648  \n",
       "Sci7   -0.113  0.545   0.695  \n",
       "Sci8   -0.146  0.498   0.643  \n",
       "Sci9   -0.094  0.475   0.647  \n",
       "GWA7    0.108 -0.547  -0.703  \n",
       "GWA8    0.027 -0.036  -0.035  \n",
       "GWA9   -0.013 -0.104  -0.176  \n",
       "UP      1.000 -0.178  -0.074  \n",
       "IQ     -0.178  1.000   0.529  \n",
       "Target -0.074  0.529   1.000  "
      ]
     },
     "execution_count": 94,
     "metadata": {},
     "output_type": "execute_result"
    }
   ],
   "source": [
    "# Pairwise Pearson correlations \n",
    "from pandas import read_csv \n",
    "from pandas import set_option \n",
    "filename = \"Student_Admissions.csv\" \n",
    "names = ['Batch', 'Eng7', 'Eng8', 'Eng9', 'Math7', 'Math8', 'Math9', 'Sci7', 'Sci8', 'Sci9', 'GWA7', 'GWA8', 'GWA9', 'UP', 'IQ', 'Target']\n",
    "data = read_csv(filename, names=names) \n",
    "set_option('display.width', 100) \n",
    "set_option('precision', 3) \n",
    "correlations = data.corr(method='pearson' ) \n",
    "#print(correlations)\n",
    "correlations"
   ]
  },
  {
   "cell_type": "code",
   "execution_count": 95,
   "metadata": {
    "ExecuteTime": {
     "end_time": "2019-09-26T07:21:05.255950Z",
     "start_time": "2019-09-26T07:21:05.234700Z"
    }
   },
   "outputs": [
    {
     "name": "stdout",
     "output_type": "stream",
     "text": [
      "Batch      0.047\n",
      "Eng7      -0.159\n",
      "Eng8      -0.197\n",
      "Eng9      -0.156\n",
      "Math7     -0.302\n",
      "Math8      0.056\n",
      "Math9      0.084\n",
      "Sci7      -0.200\n",
      "Sci8      -0.186\n",
      "Sci9      -0.026\n",
      "GWA7       0.147\n",
      "GWA8      31.778\n",
      "GWA9      29.694\n",
      "UP         0.041\n",
      "IQ        -0.574\n",
      "Target     0.099\n",
      "dtype: float64\n"
     ]
    }
   ],
   "source": [
    "# Skew for each attribute \n",
    "from pandas import read_csv \n",
    "filename = \"Student_Admissions.csv\" \n",
    "names = ['Batch', 'Eng7', 'Eng8', 'Eng9', 'Math7', 'Math8', 'Math9', 'Sci7', 'Sci8', 'Sci9', 'GWA7', 'GWA8', 'GWA9', 'UP', 'IQ', 'Target']\n",
    "data = read_csv(filename, names=names) \n",
    "skew = data.skew() \n",
    "print(skew)"
   ]
  },
  {
   "cell_type": "markdown",
   "metadata": {},
   "source": [
    "# Understand Your Data With Visualization"
   ]
  },
  {
   "cell_type": "code",
   "execution_count": 51,
   "metadata": {
    "ExecuteTime": {
     "end_time": "2019-09-26T07:21:08.235528Z",
     "start_time": "2019-09-26T07:21:06.610949Z"
    },
    "scrolled": true
   },
   "outputs": [
    {
     "data": {
      "image/png": "[encoded data removed]",
      "text/plain": [
       "<Figure size 432x288 with 16 Axes>"
      ]
     },
     "metadata": {
      "needs_background": "light"
     },
     "output_type": "display_data"
    }
   ],
   "source": [
    "# Univariate Histograms \n",
    "from matplotlib import pyplot \n",
    "from pandas import read_csv \n",
    "filename = 'Student_Admissions.csv' \n",
    "names = ['Batch', 'Eng7', 'Eng8', 'Eng9', 'Math7', 'Math8', 'Math9', 'Sci7', 'Sci8', 'Sci9', 'GWA7', 'GWA8', 'GWA9', 'UP', 'IQ', 'Target'] \n",
    "data = read_csv(filename, names=names) \n",
    "data.hist() \n",
    "pyplot.tight_layout()\n",
    "pyplot.show()"
   ]
  },
  {
   "cell_type": "code",
   "execution_count": 66,
   "metadata": {
    "ExecuteTime": {
     "end_time": "2019-09-26T07:21:10.807237Z",
     "start_time": "2019-09-26T07:21:08.350666Z"
    }
   },
   "outputs": [
    {
     "data": {
      "image/png": "[encoded data removed]",
      "text/plain": [
       "<Figure size 432x288 with 16 Axes>"
      ]
     },
     "metadata": {
      "needs_background": "light"
     },
     "output_type": "display_data"
    }
   ],
   "source": [
    "# Univariate Density Plots \n",
    "from matplotlib import pyplot \n",
    "from pandas import read_csv \n",
    "filename = 'Student_Admissions.csv' \n",
    "names = ['Batch', 'Eng7', 'Eng8', 'Eng9', 'Math7', 'Math8', 'Math9', 'Sci7', 'Sci8', 'Sci9', 'GWA7', 'GWA8', 'GWA9', 'UP', 'IQ', 'Target'] \n",
    "data = read_csv(filename, names=names) \n",
    "data.plot(kind='density' , subplots=True, layout=(4,4), sharex=False) \n",
    "pyplot.tight_layout()\n",
    "pyplot.show()"
   ]
  },
  {
   "cell_type": "code",
   "execution_count": 65,
   "metadata": {
    "ExecuteTime": {
     "end_time": "2019-09-26T07:21:12.589293Z",
     "start_time": "2019-09-26T07:21:10.955755Z"
    }
   },
   "outputs": [
    {
     "data": {
      "image/png": "[encoded data removed]",
      "text/plain": [
       "<Figure size 432x288 with 16 Axes>"
      ]
     },
     "metadata": {
      "needs_background": "light"
     },
     "output_type": "display_data"
    }
   ],
   "source": [
    "# Box and Whisker Plots \n",
    "from matplotlib import pyplot \n",
    "from pandas import read_csv \n",
    "filename = \"Student_Admissions.csv\" \n",
    "names = ['Batch', 'Eng7', 'Eng8', 'Eng9', 'Math7', 'Math8', 'Math9', 'Sci7', 'Sci8', 'Sci9', 'GWA7', 'GWA8', 'GWA9', 'UP', 'IQ', 'Target'] \n",
    "data = read_csv(filename, names=names) \n",
    "data.plot(kind='box' , subplots=True, layout=(4,4), sharex=False, sharey=False) \n",
    "pyplot.tight_layout()\n",
    "pyplot.show()"
   ]
  },
  {
   "cell_type": "code",
   "execution_count": 83,
   "metadata": {
    "ExecuteTime": {
     "end_time": "2019-09-26T07:21:13.076377Z",
     "start_time": "2019-09-26T07:21:12.722105Z"
    }
   },
   "outputs": [
    {
     "data": {
      "image/png": "[encoded data removed]",
      "text/plain": [
       "<Figure size 432x288 with 2 Axes>"
      ]
     },
     "metadata": {
      "needs_background": "light"
     },
     "output_type": "display_data"
    }
   ],
   "source": [
    "# Correlation Matrix Plot \n",
    "from matplotlib import pyplot \n",
    "from pandas import read_csv \n",
    "import numpy \n",
    "filename = 'Student_Admissions.csv' \n",
    "names = ['Batch', 'Eng7', 'Eng8', 'Eng9', 'Math7', 'Math8', 'Math9', 'Sci7', 'Sci8', 'Sci9', 'GWA7', 'GWA8', 'GWA9', 'UP', 'IQ', 'Target'] \n",
    "data = read_csv(filename, names=names) \n",
    "correlations = data.corr() \n",
    "\n",
    "# plot correlation matrix \n",
    "fig = pyplot.figure() \n",
    "ax = fig.add_subplot(111) \n",
    "cax = ax.matshow(correlations, vmin=-1, vmax=1) \n",
    "fig.colorbar(cax) \n",
    "ticks = numpy.arange(0,16,1) \n",
    "ax.set_xticks(ticks) \n",
    "ax.set_yticks(ticks) \n",
    "ax.set_xticklabels(names) \n",
    "ax.set_yticklabels(names) \n",
    "pyplot.show()"
   ]
  },
  {
   "cell_type": "code",
   "execution_count": 64,
   "metadata": {
    "ExecuteTime": {
     "end_time": "2019-09-26T07:21:20.263291Z",
     "start_time": "2019-09-26T07:21:13.962415Z"
    }
   },
   "outputs": [
    {
     "data": {
      "image/png": "[encoded data removed]",
      "text/plain": [
       "<Figure size 432x288 with 256 Axes>"
      ]
     },
     "metadata": {
      "needs_background": "light"
     },
     "output_type": "display_data"
    }
   ],
   "source": [
    "# Scatterplot Matrix \n",
    "from matplotlib import pyplot \n",
    "from pandas import read_csv \n",
    "from pandas.plotting import scatter_matrix \n",
    "filename = 'Student_Admissions.csv'  \n",
    "names = ['Batch', 'Eng7', 'Eng8', 'Eng9', 'Math7', 'Math8', 'Math9', 'Sci7', 'Sci8', 'Sci9', 'GWA7', 'GWA8', 'GWA9', 'UP', 'IQ', 'Target'] \n",
    "read_csv(filename, names=names) \n",
    "scatter_matrix(data) \n",
    "pyplot.show()"
   ]
  },
  {
   "cell_type": "code",
   "execution_count": null,
   "metadata": {},
   "outputs": [],
   "source": []
  }
 ],
 "metadata": {
  "kernelspec": {
   "display_name": "Python 3",
   "language": "python",
   "name": "python3"
  },
  "language_info": {
   "codemirror_mode": {
    "name": "ipython",
    "version": 3
   },
   "file_extension": ".py",
   "mimetype": "text/x-python",
   "name": "python",
   "nbconvert_exporter": "python",
   "pygments_lexer": "ipython3",
   "version": "3.7.3"
  },
  "latex_envs": {
   "LaTeX_envs_menu_present": true,
   "autoclose": false,
   "autocomplete": true,
   "bibliofile": "biblio.bib",
   "cite_by": "apalike",
   "current_citInitial": 1,
   "eqLabelWithNumbers": true,
   "eqNumInitial": 1,
   "hotkeys": {
    "equation": "Ctrl-E",
    "itemize": "Ctrl-I"
   },
   "labels_anchors": false,
   "latex_user_defs": false,
   "report_style_numbering": false,
   "user_envs_cfg": false
  },
  "toc": {
   "base_numbering": 1,
   "nav_menu": {},
   "number_sections": true,
   "sideBar": true,
   "skip_h1_title": false,
   "title_cell": "Table of Contents",
   "title_sidebar": "Contents",
   "toc_cell": false,
   "toc_position": {
    "height": "458px",
    "left": "198px",
    "top": "110px",
    "width": "277px"
   },
   "toc_section_display": true,
   "toc_window_display": true
  },
  "varInspector": {
   "cols": {
    "lenName": 16,
    "lenType": 16,
    "lenVar": 40
   },
   "kernels_config": {
    "python": {
     "delete_cmd_postfix": "",
     "delete_cmd_prefix": "del ",
     "library": "var_list.py",
     "varRefreshCmd": "print(var_dic_list())"
    },
    "r": {
     "delete_cmd_postfix": ") ",
     "delete_cmd_prefix": "rm(",
     "library": "var_list.r",
     "varRefreshCmd": "cat(var_dic_list()) "
    }
   },
   "types_to_exclude": [
    "module",
    "function",
    "builtin_function_or_method",
    "instance",
    "_Feature"
   ],
   "window_display": false
  }
 },
 "nbformat": 4,
 "nbformat_minor": 2
}
